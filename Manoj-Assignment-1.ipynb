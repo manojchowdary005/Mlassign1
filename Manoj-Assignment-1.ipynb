{
 "cells": [
  {
   "cell_type": "code",
   "execution_count": 24,
   "id": "14a69ffa",
   "metadata": {},
   "outputs": [
    {
     "name": "stdout",
     "output_type": "stream",
     "text": [
      "Sort List: [19, 19, 20, 22, 24, 24, 24, 25, 25, 26] Min age: 19 Max age: 26\n",
      "After adding min and max [19, 19, 20, 22, 24, 24, 24, 25, 25, 26, 19, 26]\n",
      "Median age: 24.0\n",
      "Average age: 22.75\n",
      "Range of ages: 7\n"
     ]
    }
   ],
   "source": [
    "#1\n",
    "\n",
    "import statistics #To use median\n",
    "\n",
    "ages = [19, 22, 19, 24, 20, 25, 26, 24, 25, 24]\n",
    "#Sort the list and display the min and max age\n",
    "ages.sort()\n",
    "print(\"Sort List:\",ages,\"Min age:\",min(ages),\"Max age:\",max(ages))\n",
    "\n",
    "#Add the min age and the max age again to the list at the end\n",
    "ages.extend([min(ages),max(ages)])\n",
    "print(\"After adding min and max\",ages)\n",
    "\n",
    "#median age\n",
    "print(\"Median age:\",statistics.median(ages))\n",
    "\n",
    "#average age\n",
    "print(\"Average age:\",sum(ages)/len(ages))\n",
    "\n",
    "#range of the ages\n",
    "print(\"Range of ages:\",max(ages)-min(ages))"
   ]
  },
  {
   "cell_type": "code",
   "execution_count": 25,
   "id": "20232fea",
   "metadata": {},
   "outputs": [
    {
     "name": "stdout",
     "output_type": "stream",
     "text": [
      "dog dictionary: {'name': 'None', 'color': 'None', 'breed': 'None', 'legs': 'None', 'age': 'None'}\n",
      "keys for student dictionary: dict_keys(['first_name', 'last_name', 'gender', 'age', 'marital status', 'skills', 'country', 'city', 'address'])\n",
      "Length of student: 9\n",
      "Values: ['AWS', 'python', 'react']\n",
      "Datatype: <class 'list'>\n",
      "List after adding: ['AWS', 'python', 'react', 'Azure', 'NoSQL']\n",
      "Keys: dict_keys(['first_name', 'last_name', 'gender', 'age', 'marital status', 'skills', 'country', 'city', 'address'])\n",
      "Values: dict_values(['Amy', 'Normad', 'F', 28, 'Married', ['AWS', 'python', 'react', 'Azure', 'NoSQL'], 'United States', 'Kansas', {'street': 'eby St', 'zipcode': '66223'}])\n"
     ]
    }
   ],
   "source": [
    "#2\n",
    "\n",
    "#Create an empty dictionary\n",
    "dog={}\n",
    "\n",
    "#Add name, color, breed, legs, age to the dictionary(dog)\n",
    "dog={'name':'None', 'color':'None', 'breed':'None', 'legs':'None', 'age':'None'}\n",
    "print(\"dog dictionary:\",dog)\n",
    "\n",
    "#Create a student dictionary and add first_name, last_name, gender, age, marital status, skills, country, city and address as keys for the dictionary\n",
    "student={}\n",
    "student={'first_name':'Amy',\n",
    "          'last_name':'Normad',\n",
    "          'gender':'F',\n",
    "          'age':28,\n",
    "          'marital status':'Married',\n",
    "          'skills':['AWS','python','react'],\n",
    "          'country':'United States',\n",
    "          'city':'Kansas',\n",
    "          'address':{\n",
    "               'street':'eby St',\n",
    "               'zipcode':'66223'\n",
    "          }\n",
    "        }\n",
    "print(\"keys for student dictionary:\",student.keys())\n",
    "\n",
    "#length of the student dictionary\n",
    "print(\"Length of student:\",len(student))\n",
    "\n",
    "#Value of skills and check the data type, it should be a list\n",
    "print(\"Values:\",student.get('skills'))\n",
    "print(\"Datatype:\",type(student['skills']))\n",
    "\n",
    "#Modify the skills values by adding one or two skills i.e 'HTML' and 'MangoDB'\n",
    "student['skills'].append('Azure')\n",
    "student['skills'].append('NoSQL')\n",
    "print(\"List after adding:\",student['skills'])\n",
    "\n",
    "#dictionary keys as a list\n",
    "keys = student.keys()\n",
    "print(\"Keys:\",keys) \n",
    "\n",
    "#dictionary values as a list\n",
    "values = student.values()\n",
    "print(\"Values:\",values)"
   ]
  },
  {
   "cell_type": "code",
   "execution_count": 26,
   "id": "44fd6c5b",
   "metadata": {},
   "outputs": [
    {
     "name": "stdout",
     "output_type": "stream",
     "text": [
      "Sisters: ('Koti', 'Vamsi', 'Nikhil') Brothers: ('Jamie', 'Dalton', 'Michael', 'John')\n",
      "Siblings: ('Jamie', 'Dalton', 'Michael', 'John', 'Koti', 'Vamsi', 'Nikhil')\n",
      "No. of siblings: 7\n",
      "Total: ('Jamie', 'Dalton', 'Michael', 'John', 'Koti', 'Vamsi', 'Nikhil', 'Daniel', 'Amy')\n"
     ]
    }
   ],
   "source": [
    "#3\n",
    "\n",
    "#Create a tuple containing names of your sisters and your brothers\n",
    "sisters = ('Koti','Vamsi','Nikhil')\n",
    "brothers = ('Jamie','Dalton','Michael','John')\n",
    "print(\"Sisters:\",sisters,\"Brothers:\",brothers)\n",
    "\n",
    "#Joining brothers and sisters tuples and assigning it to siblings\n",
    "siblings = brothers+sisters \n",
    "print(\"Siblings:\",siblings)\n",
    "\n",
    "#Counting the number of siblings\n",
    "print(\"No. of siblings:\",len(siblings))\n",
    "\n",
    "#Modify the siblings tuple and add the name of your father and mother and assign it to family_members\n",
    "FM = ('Daniel','Amy')\n",
    "family_members=siblings+FM\n",
    "print(\"Total:\",family_members)"
   ]
  },
  {
   "cell_type": "code",
   "execution_count": 27,
   "id": "c4504fea",
   "metadata": {},
   "outputs": [
    {
     "name": "stdout",
     "output_type": "stream",
     "text": [
      "Length of it_companies: 7\n",
      "set after adding: {'Amazon', 'Google', 'IBM', 'Oracle', 'Apple', 'Twitter', 'Microsoft', 'Facebook'}\n",
      "multiple values : {'FedX', 'Google', 'IBM', 'Oracle', 'CapitalOne', 'Facebook', 'Microsoft', 'Amazon', 'Twitter', 'UPS', 'Apple'}\n",
      "Removing one item like 'UPS': {'FedX', 'Google', 'IBM', 'Oracle', 'CapitalOne', 'Facebook', 'Microsoft', 'Amazon', 'Twitter', 'Apple'}\n",
      "Discarding an item: {'FedX', 'Google', 'Oracle', 'CapitalOne', 'Facebook', 'Microsoft', 'Amazon', 'Twitter', 'Apple'}\n",
      "Union: {19, 20, 22, 24, 25, 26, 27, 28}\n",
      "Intersection: {19, 20, 22, 24, 25, 26}\n",
      "Is A Subset of B: True\n",
      "Are A and B disjoint sets: False\n",
      "Join A with B: {19, 20, 22, 24, 25, 26, 27, 28}\n",
      "Join B with A: {19, 20, 22, 24, 25, 26, 27, 28}\n",
      "Symmetric difference {27, 28}\n",
      "Convert the ages: {19, 22, 24, 25, 26}\n",
      "Length of List: 8 and Length of Set: 5\n",
      "Comparing: False\n"
     ]
    }
   ],
   "source": [
    "#4\n",
    "#sets\n",
    "it_companies = {'Amazon','Facebook', 'Google', 'Microsoft', 'Apple', 'IBM', 'Oracle'}  \n",
    "A = {19, 22, 24, 20, 25, 26}\n",
    "B = {19, 22, 20, 25, 26, 24, 28, 27}\n",
    "age = [22, 19, 24, 25, 26, 24, 25, 24]\n",
    "\n",
    "#length of the set it_companies\n",
    "print(\"Length of it_companies:\",len(it_companies))\n",
    "\n",
    "#Adding 'Twitter' to it_companies\n",
    "it_companies.add('Twitter')\n",
    "print(\"set after adding:\",it_companies)\n",
    "\n",
    "#Inserting multiple IT companies at once to the set it_companies like 'LinkedIn','CapitalOne','FedX'\n",
    "insert_multiple = {'UPS','CapitalOne','FedX'}\n",
    "it_companies.update(insert_multiple)\n",
    "print(\"multiple values :\",it_companies)\n",
    "\n",
    "#Removing one of the companies from the set it_companies like 'Microsoft'\n",
    "it_companies.remove('UPS')\n",
    "print(\"Removing one item like 'UPS':\",it_companies)\n",
    "\n",
    "#difference between remove and discard\n",
    "#remove(x): remove element x from the set s. A KeyError occurs if x is not in the set\n",
    "#discard(x): remove element x from the set s. Does not cause an exception if x is not in the set\n",
    "it_companies.discard('IBM') \n",
    "print(\"Discarding an item:\",it_companies)\n",
    "\n",
    "#Joining A and B\n",
    "print(\"Union:\",A.union(B))\n",
    "\n",
    "#Intersection of A and B\n",
    "print(\"Intersection:\",A.intersection(B))\n",
    "\n",
    "#Is A subset of B which gives true/false\n",
    "print(\"Is A Subset of B:\", A.issubset(B))\n",
    "\n",
    "#Are A and B disjoint sets which gives true/false\n",
    "print(\"Are A and B disjoint sets:\",A.isdisjoint(B))\n",
    "\n",
    "#Join A with B and B with A which gives the same output\n",
    "A.update(B)\n",
    "print(\"Join A with B:\",A)\n",
    "B.update(A)\n",
    "print(\"Join B with A:\",B)\n",
    "\n",
    "#Symmetric difference between A and B\n",
    "A = {19, 22, 24, 20, 25, 26}\n",
    "B = {19, 22, 20, 25, 26, 24, 28, 27}\n",
    "print(\"Symmetric difference\",A.symmetric_difference(B))\n",
    "\n",
    "#Delete the sets completely and if we try to print then we get NameError\n",
    "del A\n",
    "del B\n",
    "\n",
    "#Convert the ages to a set and compare the length of the list and the set by checking whether both are equal or not.\n",
    "ages=set(age)\n",
    "print(\"Convert the ages:\",ages)\n",
    "print(\"Length of List:\",len(age),\"and Length of Set:\",len(ages))\n",
    "print(\"Comparing:\",len(age)==len(ages))"
   ]
  },
  {
   "cell_type": "code",
   "execution_count": 28,
   "id": "52fb2047",
   "metadata": {},
   "outputs": [
    {
     "name": "stdout",
     "output_type": "stream",
     "text": [
      "Area of circle: 2826.0\n",
      "Circumference of circle: 188.4\n",
      "Enter radius: 40\n",
      "Area: 5024.0\n"
     ]
    }
   ],
   "source": [
    "radius= 30\n",
    "pi=3.14\n",
    "#Calculate the area of a circle and assign the value to a variable name of area_of_circle\n",
    "area_of_circle = pi*radius*radius\n",
    "print(\"Area of circle:\",area_of_circle)\n",
    "\n",
    "#Calculate the circumference of a circle and assign the value to a variable name of circum_of_circle\n",
    "circum_of_circle = 2*pi*radius\n",
    "print(\"Circumference of circle:\",circum_of_circle)\n",
    "\n",
    "#Take radius as user input and calculate the area\n",
    "radius = float(input(\"Enter radius: \"))\n",
    "area = pi*radius*radius\n",
    "print(\"Area:\",area)"
   ]
  },
  {
   "cell_type": "code",
   "execution_count": 29,
   "id": "7749c659",
   "metadata": {},
   "outputs": [
    {
     "name": "stdout",
     "output_type": "stream",
     "text": [
      "words {'a', 'am', 'to', 'teacher', 'inspire', 'teach', 'love', 'I', 'people', 'and'}\n",
      "count: 10\n"
     ]
    }
   ],
   "source": [
    "#6\n",
    "\n",
    "#How many unique words have been used in the given sentence? Use the split methods and set to get the unique words\n",
    "str = \"I am a teacher and I love to inspire and teach people\"\n",
    "unique=set(str.split(\" \"))\n",
    "print(\"words\",unique)\n",
    "print(\"count:\",len(unique))"
   ]
  },
  {
   "cell_type": "code",
   "execution_count": 30,
   "id": "3a55d233",
   "metadata": {},
   "outputs": [
    {
     "name": "stdout",
     "output_type": "stream",
     "text": [
      "Name\tAge\tCountry\tCity\n",
      "Asabeneh\t250\tFinland\tHelsinki\n"
     ]
    }
   ],
   "source": [
    "#7 \n",
    "\n",
    "#Use tab escape sequence to get the below mentioned lines.\n",
    "#Name Age Country City\n",
    "#Asabeneh 250 Finland Helsinki\n",
    "\n",
    "print(\"Name\\tAge\\tCountry\\tCity\")\n",
    "print(\"Asabeneh\\t250\\tFinland\\tHelsinki\")"
   ]
  },
  {
   "cell_type": "code",
   "execution_count": 31,
   "id": "0a9d5ee4",
   "metadata": {},
   "outputs": [
    {
     "name": "stdout",
     "output_type": "stream",
     "text": [
      "The area of circle with radius 10 is 314 meters square.\n"
     ]
    }
   ],
   "source": [
    "#8\n",
    "\n",
    "#Use the string formatting method to display the following\n",
    "#radius = 10\n",
    "#area = 3.14 * radius ** 2\n",
    "#“The area of a circle with radius 10 is 314 meters square.\"\n",
    "\n",
    "radius = 10\n",
    "area = int(3.14*radius**2)\n",
    "res = 'The area of circle with radius {} is {} meters square.'.format(radius, area)\n",
    "print(res)"
   ]
  },
  {
   "cell_type": "code",
   "execution_count": 32,
   "id": "78b7ce62",
   "metadata": {},
   "outputs": [
    {
     "name": "stdout",
     "output_type": "stream",
     "text": [
      "Enter the no. of stu: 4\n",
      "150\n",
      "155\n",
      "145\n",
      "148\n",
      "[68.025, 70.2925, 65.75750000000001, 67.118]\n"
     ]
    }
   ],
   "source": [
    "#9\n",
    "#Write a program which reads weights (lbs.) of N students into a list and convert these weights to \n",
    "#kilograms in a separate list using Loop. N: No of students (get input from user)\n",
    "#Ex: L1: [150, 155, 145, 148]\n",
    "#Output: [68.03, 70.3, 65.77, 67.13]\n",
    "\n",
    "n1 = []\n",
    "n2 = []\n",
    "n = int(input(\"Enter the no. of stu: \"))\n",
    "for i in range(0,n):\n",
    "    w = int(input())\n",
    "    n1.append(w)\n",
    "for i in range(0,n):\n",
    "    n2.append(n1[i]*0.4535)\n",
    "print(n2)"
   ]
  },
  {
   "cell_type": "code",
   "execution_count": null,
   "id": "023c2283",
   "metadata": {},
   "outputs": [],
   "source": []
  }
 ],
 "metadata": {
  "kernelspec": {
   "display_name": "Python 3 (ipykernel)",
   "language": "python",
   "name": "python3"
  },
  "language_info": {
   "codemirror_mode": {
    "name": "ipython",
    "version": 3
   },
   "file_extension": ".py",
   "mimetype": "text/x-python",
   "name": "python",
   "nbconvert_exporter": "python",
   "pygments_lexer": "ipython3",
   "version": "3.9.12"
  }
 },
 "nbformat": 4,
 "nbformat_minor": 5
}
