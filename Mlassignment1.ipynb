{
 "cells": [
  {
   "cell_type": "code",
   "execution_count": 1,
   "id": "b0e13802",
   "metadata": {
    "scrolled": true
   },
   "outputs": [
    {
     "name": "stdout",
     "output_type": "stream",
     "text": [
      "Sorted List: [19, 19, 20, 22, 24, 24, 24, 25, 25, 26]\n",
      "Min age: 19\n",
      "Max age: 26\n",
      "Adding min and max to list: [19, 19, 20, 22, 24, 24, 24, 25, 25, 26, 19, 26]\n",
      "Median age: 24.0\n",
      "Average age: 22.75\n",
      "Range of the ages: 7\n"
     ]
    }
   ],
   "source": [
    "#Solution:1\n",
    "\n",
    "import statistics\n",
    "\n",
    "ages = [19, 22, 19, 24, 20, 25, 26, 24, 25, 24]\n",
    "#Sort the list and displaying the min and max age\n",
    "ages.sort()\n",
    "print(\"Sorted List:\",ages)\n",
    "print(\"Min age:\",min(ages))\n",
    "print(\"Max age:\",max(ages))\n",
    "\n",
    "#Add the min age and the max age again to the list at the end\n",
    "ages.extend([min(ages),max(ages)])\n",
    "print(\"Adding min and max to list:\",ages)\n",
    "\n",
    "#median age (one middle item or two middle items divided by two)\n",
    "print(\"Median age:\",statistics.median(ages))\n",
    "\n",
    "#average age (sum of all items divided by their number)\n",
    "print(\"Average age:\",sum(ages)/len(ages))\n",
    "\n",
    "#range of the ages (max minus min)\n",
    "print(\"Range of the ages:\",max(ages)-min(ages))"
   ]
  },
  {
   "cell_type": "code",
   "execution_count": 2,
   "id": "de3f5401",
   "metadata": {},
   "outputs": [
    {
     "name": "stdout",
     "output_type": "stream",
     "text": [
      "dog dictionary: {'name': None, 'color': None, 'breed': None, 'legs': None, 'age': None}\n",
      "keys for student dictionary: dict_keys(['first_name', 'last_name', 'gender', 'age', 'marital status', 'skills', 'country', 'city', 'address'])\n",
      "Length of student: 9\n",
      "Values of skills: ['javascript', 'python', 'react']\n",
      "Datatype of skills: <class 'list'>\n",
      "Modified List after adding one or two skills: ['javascript', 'python', 'react', 'HTML', 'MongoDB']\n",
      "Dictionary Keys: dict_keys(['first_name', 'last_name', 'gender', 'age', 'marital status', 'skills', 'country', 'city', 'address'])\n",
      "Dictionary Values: dict_values(['Kinoree', 'Meda', 'F', 22, 'single', ['javascript', 'python', 'react', 'HTML', 'MongoDB'], 'United States', 'Kansas', {'street': 'Travis St', 'zipcode': '66223'}])\n"
     ]
    }
   ],
   "source": [
    "#Solution:2\n",
    "\n",
    "#Create an empty dictionary\n",
    "dog={}\n",
    "\n",
    "#Add name, color, breed, legs, age to the dog dictionary\n",
    "keyList=['name', 'color', 'breed', 'legs', 'age']\n",
    "for i in keyList:\n",
    "    dog[i]=None\n",
    "print(\"dog dictionary:\",dog)\n",
    "\n",
    "#Create a student dictionary and add first_name, last_name, gender, age, marital status, skills, country, city and address as keys for the dictionary\n",
    "students={}\n",
    "students={'first_name':'Kinoree',\n",
    "          'last_name':'Meda',\n",
    "          'gender':'F',\n",
    "          'age':22,\n",
    "          'marital status':'single',\n",
    "          'skills':['javascript','python','react'],\n",
    "          'country':'United States',\n",
    "          'city':'Kansas',\n",
    "          'address':{\n",
    "               'street':'Travis St',\n",
    "               'zipcode':'66223'\n",
    "          }\n",
    "        }\n",
    "print(\"keys for student dictionary:\",students.keys())\n",
    "\n",
    "#length of the student dictionary\n",
    "print(\"Length of student:\",len(students))\n",
    "\n",
    "\n",
    "#Value of skills and check the data type, it should be a list\n",
    "print(\"Values of skills:\",students.get('skills'))\n",
    "print(\"Datatype of skills:\",type(students['skills']))\n",
    "\n",
    "#Modify the skills values by adding one or two skills i.e 'HTML' and 'MangoDB'\n",
    "students['skills'].append('HTML')\n",
    "students['skills'].append('MongoDB')\n",
    "print(\"Modified List after adding one or two skills:\",students['skills'])\n",
    "\n",
    "#dictionary keys as a list\n",
    "keys = students.keys()\n",
    "print(\"Dictionary Keys:\",keys) \n",
    "\n",
    "#dictionary values as a list\n",
    "values = students.values()\n",
    "print(\"Dictionary Values:\",values) "
   ]
  },
  {
   "cell_type": "code",
   "execution_count": 3,
   "id": "cb9c09c2",
   "metadata": {},
   "outputs": [
    {
     "name": "stdout",
     "output_type": "stream",
     "text": [
      "Sisters: ('Swetha', 'Mary', 'Nancy') Brothers: ('John', 'Peter', 'Harry', 'Gopi')\n",
      "Siblings Tuple: ('John', 'Peter', 'Harry', 'Gopi', 'Swetha', 'Mary', 'Nancy')\n",
      "Length of siblings: 7\n",
      "Family Members: ('John', 'Peter', 'Harry', 'Gopi', 'Swetha', 'Mary', 'Nancy', 'Sudhakar', 'Rani')\n"
     ]
    }
   ],
   "source": [
    "#Solution:3\n",
    "\n",
    "#Create a tuple containing names of your sisters and your brothers (imaginary siblings are fine)\n",
    "sisters = ('Swetha','Mary','Nancy')\n",
    "brothers = ('John','Peter','Harry','Gopi')\n",
    "print(\"Sisters:\",sisters,\"Brothers:\",brothers)\n",
    "\n",
    "#Joining brothers and sisters tuples and assigning it to siblings\n",
    "siblings = brothers+sisters \n",
    "print(\"Siblings Tuple:\",siblings)\n",
    "\n",
    "#Counting the number of siblings\n",
    "print(\"Length of siblings:\",len(siblings))\n",
    "\n",
    "#Modify the siblings tuple and add the name of your father and mother like 'Sudhakar' and 'Rani'and assign it to family_members\n",
    "parents = ('Sudhakar','Rani')\n",
    "family_members=siblings+parents\n",
    "print(\"Family Members:\",family_members)"
   ]
  },
  {
   "cell_type": "code",
   "execution_count": 5,
   "id": "15ffa51b",
   "metadata": {},
   "outputs": [
    {
     "name": "stdout",
     "output_type": "stream",
     "text": [
      "Length of the it_companies: 7\n",
      "Set after adding 'Twitter': {'Apple', 'Microsoft', 'Google', 'Twitter', 'IBM', 'Oracle', 'Amazon', 'Facebook'}\n",
      "Insert Multiple IT companies: {'FedX', 'Microsoft', 'IBM', 'Google', 'Twitter', 'Oracle', 'CapitalOne', 'LinkedIn', 'Apple', 'Amazon', 'Facebook'}\n",
      "Removing one item like 'Microsoft': {'FedX', 'IBM', 'Google', 'Twitter', 'Oracle', 'CapitalOne', 'LinkedIn', 'Apple', 'Amazon', 'Facebook'}\n",
      "Discarding an item: {'FedX', 'Google', 'Twitter', 'Oracle', 'CapitalOne', 'LinkedIn', 'Apple', 'Amazon', 'Facebook'}\n",
      "Union: {19, 20, 22, 24, 25, 26, 27, 28}\n",
      "Intersection: {19, 20, 22, 24, 25, 26}\n",
      "Is A Subset of B: True\n",
      "Are A and B disjoint sets: False\n",
      "Join A with B: {19, 20, 22, 24, 25, 26, 27, 28}\n",
      "Join B with A: {19, 20, 22, 24, 25, 26, 27, 28}\n",
      "Symmetric difference between A and B: {27, 28}\n",
      "Convert the ages to a set: {19, 22, 24, 25, 26}\n",
      "Length of List: 8 and Length of Set: 5\n",
      "Compare the length of the list and the set: False\n"
     ]
    }
   ],
   "source": [
    "#Soluton:4\n",
    "\n",
    "it_companies = {'Facebook', 'Google', 'Microsoft', 'Apple', 'IBM', 'Oracle', 'Amazon'}\n",
    "A = {19, 22, 24, 20, 25, 26}\n",
    "B = {19, 22, 20, 25, 26, 24, 28, 27}\n",
    "age = [22, 19, 24, 25, 26, 24, 25, 24]\n",
    "\n",
    "#length of the set it_companies\n",
    "print(\"Length of the it_companies:\",len(it_companies))\n",
    "\n",
    "#After Adding 'Twitter' to it_companies\n",
    "it_companies.add('Twitter')\n",
    "print(\"Set after adding 'Twitter':\",it_companies)\n",
    "\n",
    "#Inserting multiple IT companies at once to the set it_companies like 'LinkedIn','CapitalOne','FedX'\n",
    "it_companies.update(['LinkedIn','CapitalOne','FedX'])\n",
    "print(\"Insert Multiple IT companies:\",it_companies)\n",
    "\n",
    "#Removing one of the companies from the set it_companies like 'Microsoft'\n",
    "it_companies.remove('Microsoft')\n",
    "print(\"Removing one item like 'Microsoft':\",it_companies)\n",
    "\n",
    "#What is the difference between remove and discard\n",
    "#remove(x): remove element x from the set s. A KeyError occurs if x is not in the set\n",
    "#discard(x): remove element x from the set s. Does not cause an exception if x is not in the set\n",
    "it_companies.discard('IBM') \n",
    "print(\"Discarding an item:\",it_companies)\n",
    "\n",
    "#Joining A and B\n",
    "print(\"Union:\",A.union(B))\n",
    "\n",
    "#Intersection of A and B\n",
    "print(\"Intersection:\",A.intersection(B))\n",
    "\n",
    "#Is A subset of B which gives true/false\n",
    "print(\"Is A Subset of B:\", A.issubset(B))\n",
    "\n",
    "#Are A and B disjoint sets which gives true/false\n",
    "print(\"Are A and B disjoint sets:\",A.isdisjoint(B))\n",
    "\n",
    "#Join A with B and B with A which gives the same output\n",
    "A.update(B)\n",
    "print(\"Join A with B:\",A)\n",
    "B.update(A)\n",
    "print(\"Join B with A:\",B)\n",
    "\n",
    "#Symmetric difference between A and B\n",
    "A = {19, 22, 24, 20, 25, 26}\n",
    "B = {19, 22, 20, 25, 26, 24, 28, 27}\n",
    "print(\"Symmetric difference between A and B:\",A.symmetric_difference(B))\n",
    "\n",
    "#Delete the sets completely and if we try to print then we get NameError\n",
    "del A\n",
    "del B\n",
    "\n",
    "\n",
    "#Convert the ages to a set and compare the length of the list and the set by checking whether both are equal or not.\n",
    "ages=set(age)\n",
    "print(\"Convert the ages to a set:\",ages)\n",
    "print(\"Length of List:\",len(age),\"and Length of Set:\",len(ages))\n",
    "print(\"Compare the length of the list and the set:\",len(age)==len(ages))\n"
   ]
  },
  {
   "cell_type": "code",
   "execution_count": null,
   "id": "8f48e04e",
   "metadata": {},
   "outputs": [
    {
     "name": "stdout",
     "output_type": "stream",
     "text": [
      "Area of circle: 2826.0\n",
      "Circumference of circle: 188.4\n"
     ]
    }
   ],
   "source": [
    "#Solution:5\n",
    "\n",
    "radius= 30\n",
    "pi=3.14\n",
    "#Calculate the area of a circle and assign the value to a variable name of _area_of_circle_\n",
    "_area_of_circle_ = pi*radius*radius\n",
    "print(\"Area of circle:\",_area_of_circle_)\n",
    "\n",
    "#Calculate the circumference of a circle and assign the value to a variable name of _circum_of_circle_\n",
    "_circum_of_circle_ = 2*pi*radius\n",
    "print(\"Circumference of circle:\",_circum_of_circle_)\n",
    "\n",
    "#Take radius as user input and calculate the area\n",
    "radius = float(input(\"Enter the radius: \"))\n",
    "area = pi*radius*radius\n",
    "print(\"Area of circle:\",area)"
   ]
  },
  {
   "cell_type": "code",
   "execution_count": null,
   "id": "634f5ec8",
   "metadata": {},
   "outputs": [],
   "source": [
    "#Solution:6\n",
    "\n",
    "#How many unique words have been used in the sentence? Use the split methods and set to get the unique words\n",
    "sentence = \"I am a teacher and I love to inspire and teach people\"\n",
    "words = sentence.split()\n",
    "unique=set(words)\n",
    "print(\"The words are:\",unique)\n",
    "print(\"Number of unique words:\",len(unique))"
   ]
  },
  {
   "cell_type": "code",
   "execution_count": null,
   "id": "4588d10c",
   "metadata": {},
   "outputs": [],
   "source": [
    "#Solution:7 \n",
    "\n",
    "#Use a tab escape sequence to get the following lines.\n",
    "#Name Age Country City\n",
    "#Asabeneh 250 Finland Helsinki\n",
    "\n",
    "print(\"Name\\tAge\\tCountry\\tCity\")\n",
    "print(\"Asabeneh\\t250\\tFinland\\tHelsinki\")\n"
   ]
  },
  {
   "cell_type": "code",
   "execution_count": null,
   "id": "1a6169b9",
   "metadata": {},
   "outputs": [],
   "source": [
    "#Solution:8\n",
    "\n",
    "#Use the string formatting method to display the following:\n",
    "#radius = 10\n",
    "#area = 3.14 * radius ** 2\n",
    "#“The area of a circle with radius 10 is 314 meters square.\"\n",
    "\n",
    "radius = 10\n",
    "area = int(3.14*radius**2)\n",
    "result = 'The area of circle with radius {} is {} meters square.'.format(radius, area)\n",
    "print(result)"
   ]
  },
  {
   "cell_type": "code",
   "execution_count": null,
   "id": "d8f4b221",
   "metadata": {},
   "outputs": [],
   "source": [
    "#Solution:9\n",
    "\n",
    "#Write a program, which reads weights (lbs.) of N students into a list and convert these weights to \n",
    "#kilograms in a separate list using Loop. N: No of students (Read input from user)\n",
    "#Ex: L1: [150, 155, 145, 148]\n",
    "#Output: [68.03, 70.3, 65.77, 67.13]\n",
    "\n",
    "L1 = []\n",
    "L2 = []\n",
    "n = int(input(\"Enter the no. of students: \"))\n",
    "for i in range(0,n):\n",
    "    weights = int(input())\n",
    "    L1.append(weights)\n",
    "print(L1)\n",
    "for i in range(0,n):\n",
    "    L2.append(L1[i]*0.4535)\n",
    "print(L2)"
   ]
  },
  {
   "cell_type": "code",
   "execution_count": null,
   "id": "3cc3abd5",
   "metadata": {},
   "outputs": [],
   "source": []
  }
 ],
 "metadata": {
  "kernelspec": {
   "display_name": "Python 3 (ipykernel)",
   "language": "python",
   "name": "python3"
  },
  "language_info": {
   "codemirror_mode": {
    "name": "ipython",
    "version": 3
   },
   "file_extension": ".py",
   "mimetype": "text/x-python",
   "name": "python",
   "nbconvert_exporter": "python",
   "pygments_lexer": "ipython3",
   "version": "3.9.12"
  }
 },
 "nbformat": 4,
 "nbformat_minor": 5
}
